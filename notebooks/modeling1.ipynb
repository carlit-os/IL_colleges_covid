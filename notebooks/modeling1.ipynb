{
 "cells": [
  {
   "cell_type": "code",
   "execution_count": 22,
   "id": "amino-clarity",
   "metadata": {},
   "outputs": [],
   "source": [
    "import pandas as pd\n",
    "import numpy as np\n",
    "import scipy.stats as st\n",
    "import math\n",
    "from sklearn.neighbors import KNeighborsClassifier\n",
    "\n",
    "##ignore warnings\n",
    "def warn(*args, **kwargs):\n",
    "    pass\n",
    "import warnings\n",
    "warnings.warn = warn"
   ]
  },
  {
   "cell_type": "code",
   "execution_count": 23,
   "id": "earned-harbor",
   "metadata": {},
   "outputs": [],
   "source": [
    "# File Paths\n",
    "nyt_colleges_path = \"../datasets/nyt/covid-19-data-master/colleges/colleges.csv\"\n",
    "mask_path = \"../datasets/nyt/covid-19-data-master/mask-use/mask-use-by-county.csv\"\n",
    "ipeds_path = \"../datasets/ipeds_nationwide/ipeds_usa.csv\"\n",
    "fips_path = \"../datasets/misc/FIPS_county_codes.csv\"\n",
    "\n",
    "# Read CSVs\n",
    "df_nyt_colleges = pd.read_csv(nyt_colleges_path)\n",
    "df_mask = pd.read_csv(mask_path)\n",
    "df_ipeds = pd.read_csv(ipeds_path)\n",
    "df_fips = pd.read_csv(fips_path)\n",
    "\n",
    "# Add county names to mask usage via merge\n",
    "df_mask_counties = pd.merge(df_mask, df_fips, left_on=\"COUNTYFP\", right_on=\"FIPS\")\n",
    "\n",
    "# Remove redundant columns, rename county name column for easier use\n",
    "df_mask_counties = df_mask_counties.drop(columns=[\"COUNTYFP\"]).rename(columns={\"Name\": \"county\", \"State\": \"state\"})\n",
    "\n",
    "# Map state acronyms to state names\n",
    "state_map = {\n",
    "    \"AL\": \"Alabama\", \"AK\": \"Alaska\", \"AZ\": \"Arizona\", \"AR\": \"Arkansas\", \"CA\": \"California\", \"CO\": \"Colorado\",\n",
    "    \"CT\": \"Connecticut\", \"DE\": \"Delaware\", \"DC\": \"Washington, D.C.\", \"FL\": \"Florida\", \"GA\": \"Georgia\",\n",
    "    \"HI\": \"Hawaii\", \"ID\": \"Idaho\", \"IL\": \"Illinois\", \"IN\": \"Indiana\", \"IA\": \"Iowa\", \"KS\": \"Kansas\", \n",
    "    \"KY\": \"Kentucky\", \"LA\": \"Louisiana\", \"ME\": \"Maine\", \"MD\": \"Maryland\", \"MA\": \"Massachusetts\",   \n",
    "    \"MI\": \"Michigan\", \"MN\": \"Minnesota\", \"MS\": \"Mississippi\", \"MO\": \"Missouri\", \"MT\": \"Montana\", \n",
    "    \"NE\": \"Nebraska\", \"NV\": \"Nevada\", \"NH\": \"New Hampshire\", \"NJ\": \"New Jersey\", \"NM\": \"New Mexico\", \"NY\": \"New York\",   \n",
    "    \"NC\": \"North Carolina\", \"ND\": \"North Dakota\", \"OH\": \"Ohio\", \"OK\": \"Oklahoma\", \"OR\": \"Oregon\",\n",
    "    \"PA\": \"Pennsylvania\", \"RI\": \"Rhode Island\", \"SC\": \"South Carolina\", \"SD\": \"South Dakota\", \n",
    "    \"TN\": \"Tennessee\", \"TX\": \"Texas\", \"UT\": \"Utah\", \"VT\": \"Vermont\", \"VA\": \"Virginia\", \"WA\": \"Washington\",\n",
    "    \"WV\": \"West Virginia\", \"WI\": \"Wisconsin\", \"WY\": \"Wyoming\"\n",
    "}\n",
    "\n",
    "df_mask_counties[\"state\"] = df_mask_counties[\"state\"].map(state_map)\n",
    "\n",
    "# Preparing EDA DataFrame\n",
    "df_case_percapita = pd.DataFrame()\n",
    "\n",
    "#categories I think will be useful for EDA here\n",
    "df_case_percapita[\"cases\"] = df_nyt_colleges[\"cases\"]\n",
    "df_case_percapita[\"Enrollment\"] = df_ipeds[\"Enrollment\"]\n",
    "df_case_percapita[\"Urbanization\"] = df_ipeds[\"Urbanization\"]\n",
    "df_case_percapita[\"college\"]= df_nyt_colleges[\"college\"]\n",
    "df_case_percapita[\"cases per capita\"] = df_case_percapita[\"cases\"] / df_case_percapita[\"Enrollment\"]\n",
    "\n",
    "# Merging mask data with college data\n",
    "df_mask_usage = pd.merge(df_nyt_colleges, df_mask_counties, on=[\"county\", \"state\"]).drop(columns=[\"FIPS\"])\n",
    "\n",
    "# Also bringing in additional IPEDS data\n",
    "df_mask_usage = pd.merge(df_mask_usage, df_ipeds, on=\"ipeds_id\")\n",
    "\n",
    "# Also adding the per capita data calculated earlier\n",
    "df_mask_usage = pd.merge(df_mask_usage, df_case_percapita[[\"cases per capita\", \"college\"]], on=\"college\")"
   ]
  },
  {
   "cell_type": "code",
   "execution_count": 24,
   "id": "involved-surgeon",
   "metadata": {},
   "outputs": [
    {
     "output_type": "execute_result",
     "data": {
      "text/plain": "            date      state      county          city  ipeds_id  \\\n0     2020-12-11    Alabama     Madison    Huntsville  100654.0   \n1     2020-12-11    Alabama     Madison    Huntsville  100706.0   \n2     2020-12-11    Alabama  Montgomery    Montgomery  100724.0   \n3     2020-12-11    Alabama  Montgomery    Montgomery  100830.0   \n4     2020-12-11    Alabama  Montgomery    Montgomery  101435.0   \n...          ...        ...         ...           ...       ...   \n1751  2020-12-11  Wisconsin    Walworth    Whitewater  240189.0   \n1752  2020-12-11    Wyoming     Natrona        Casper  240505.0   \n1753  2020-12-11    Wyoming      Goshen    Torrington  240596.0   \n1754  2020-12-11    Wyoming      Albany       Laramie  240727.0   \n1755  2020-12-11    Wyoming  Sweetwater  Rock Springs  240693.0   \n\n                                  college   cases notes  NEVER  RARELY  ...  \\\n0                  Alabama A&M University    41.0   NaN  0.062   0.050  ...   \n1     University of Alabama in Huntsville   210.0   NaN  0.062   0.050  ...   \n2                Alabama State University     2.0   NaN  0.056   0.095  ...   \n3         Auburn University at Montgomery   140.0   NaN  0.056   0.095  ...   \n4                      Huntingdon College     NaN   NaN  0.056   0.095  ...   \n...                                   ...     ...   ...    ...     ...  ...   \n1751   University of Wisconsin-Whitewater   739.0   NaN  0.116   0.146  ...   \n1752                       Casper College   299.0   NaN  0.100   0.084  ...   \n1753              Eastern Wyoming College    12.0   NaN  0.201   0.169  ...   \n1754                University of Wyoming  1795.0   NaN  0.136   0.100  ...   \n1755    Western Wyoming Community College    65.0   NaN  0.061   0.295  ...   \n\n      Tuition and fees, 2019-20  Institution size category  \\\n0                       10024.0              5,000 - 9,999   \n1                       11122.0              5,000 - 9,999   \n2                       11068.0              1,000 - 4,999   \n3                        8620.0              5,000 - 9,999   \n4                       27400.0              1,000 - 4,999   \n...                         ...                        ...   \n1751                     7695.0            10,000 - 19,999   \n1752                     3834.0              1,000 - 4,999   \n1753                     4110.0              1,000 - 4,999   \n1754                     5581.0            10,000 - 19,999   \n1755                     3930.0              1,000 - 4,999   \n\n      State abbreviation                    Sector of institution  \\\n0                Alabama                  Public, 4-year or above   \n1                Alabama                  Public, 4-year or above   \n2                Alabama                  Public, 4-year or above   \n3                Alabama                  Public, 4-year or above   \n4                Alabama  Private not-for-profit, 4-year or above   \n...                  ...                                      ...   \n1751           Wisconsin                  Public, 4-year or above   \n1752             Wyoming                           Public, 2-year   \n1753             Wyoming                           Public, 2-year   \n1754             Wyoming                  Public, 4-year or above   \n1755             Wyoming                           Public, 2-year   \n\n                  Level of institution  Control of institution  Urbanization  \\\n0                   Four or more years                  Public          City   \n1                   Four or more years                  Public          City   \n2                   Four or more years                  Public          City   \n3                   Four or more years                  Public          City   \n4                   Four or more years  Private not-for-profit          City   \n...                                ...                     ...           ...   \n1751                Four or more years                  Public          Town   \n1752  At least 2 but less than 4 years                  Public          City   \n1753  At least 2 but less than 4 years                  Public          Town   \n1754                Four or more years                  Public          Town   \n1755  At least 2 but less than 4 years                  Public          Town   \n\n      Enrollment          City cases per capita  \n0         5943.0        Normal         0.006899  \n1         8400.0    Huntsville         0.029732  \n2         4243.0    Montgomery         0.000101  \n3         5004.0    Montgomery         0.032996  \n4          990.0    Montgomery              NaN  \n...          ...           ...              ...  \n1751     11530.0    Whitewater         0.048216  \n1752      2364.0        Casper         0.302326  \n1753       886.0    Torrington         0.015605  \n1754     10878.0       Laramie         1.338553  \n1755      1769.0  Rock Springs         3.823529  \n\n[1756 rows x 27 columns]",
      "text/html": "<div>\n<style scoped>\n    .dataframe tbody tr th:only-of-type {\n        vertical-align: middle;\n    }\n\n    .dataframe tbody tr th {\n        vertical-align: top;\n    }\n\n    .dataframe thead th {\n        text-align: right;\n    }\n</style>\n<table border=\"1\" class=\"dataframe\">\n  <thead>\n    <tr style=\"text-align: right;\">\n      <th></th>\n      <th>date</th>\n      <th>state</th>\n      <th>county</th>\n      <th>city</th>\n      <th>ipeds_id</th>\n      <th>college</th>\n      <th>cases</th>\n      <th>notes</th>\n      <th>NEVER</th>\n      <th>RARELY</th>\n      <th>...</th>\n      <th>Tuition and fees, 2019-20</th>\n      <th>Institution size category</th>\n      <th>State abbreviation</th>\n      <th>Sector of institution</th>\n      <th>Level of institution</th>\n      <th>Control of institution</th>\n      <th>Urbanization</th>\n      <th>Enrollment</th>\n      <th>City</th>\n      <th>cases per capita</th>\n    </tr>\n  </thead>\n  <tbody>\n    <tr>\n      <th>0</th>\n      <td>2020-12-11</td>\n      <td>Alabama</td>\n      <td>Madison</td>\n      <td>Huntsville</td>\n      <td>100654.0</td>\n      <td>Alabama A&amp;M University</td>\n      <td>41.0</td>\n      <td>NaN</td>\n      <td>0.062</td>\n      <td>0.050</td>\n      <td>...</td>\n      <td>10024.0</td>\n      <td>5,000 - 9,999</td>\n      <td>Alabama</td>\n      <td>Public, 4-year or above</td>\n      <td>Four or more years</td>\n      <td>Public</td>\n      <td>City</td>\n      <td>5943.0</td>\n      <td>Normal</td>\n      <td>0.006899</td>\n    </tr>\n    <tr>\n      <th>1</th>\n      <td>2020-12-11</td>\n      <td>Alabama</td>\n      <td>Madison</td>\n      <td>Huntsville</td>\n      <td>100706.0</td>\n      <td>University of Alabama in Huntsville</td>\n      <td>210.0</td>\n      <td>NaN</td>\n      <td>0.062</td>\n      <td>0.050</td>\n      <td>...</td>\n      <td>11122.0</td>\n      <td>5,000 - 9,999</td>\n      <td>Alabama</td>\n      <td>Public, 4-year or above</td>\n      <td>Four or more years</td>\n      <td>Public</td>\n      <td>City</td>\n      <td>8400.0</td>\n      <td>Huntsville</td>\n      <td>0.029732</td>\n    </tr>\n    <tr>\n      <th>2</th>\n      <td>2020-12-11</td>\n      <td>Alabama</td>\n      <td>Montgomery</td>\n      <td>Montgomery</td>\n      <td>100724.0</td>\n      <td>Alabama State University</td>\n      <td>2.0</td>\n      <td>NaN</td>\n      <td>0.056</td>\n      <td>0.095</td>\n      <td>...</td>\n      <td>11068.0</td>\n      <td>1,000 - 4,999</td>\n      <td>Alabama</td>\n      <td>Public, 4-year or above</td>\n      <td>Four or more years</td>\n      <td>Public</td>\n      <td>City</td>\n      <td>4243.0</td>\n      <td>Montgomery</td>\n      <td>0.000101</td>\n    </tr>\n    <tr>\n      <th>3</th>\n      <td>2020-12-11</td>\n      <td>Alabama</td>\n      <td>Montgomery</td>\n      <td>Montgomery</td>\n      <td>100830.0</td>\n      <td>Auburn University at Montgomery</td>\n      <td>140.0</td>\n      <td>NaN</td>\n      <td>0.056</td>\n      <td>0.095</td>\n      <td>...</td>\n      <td>8620.0</td>\n      <td>5,000 - 9,999</td>\n      <td>Alabama</td>\n      <td>Public, 4-year or above</td>\n      <td>Four or more years</td>\n      <td>Public</td>\n      <td>City</td>\n      <td>5004.0</td>\n      <td>Montgomery</td>\n      <td>0.032996</td>\n    </tr>\n    <tr>\n      <th>4</th>\n      <td>2020-12-11</td>\n      <td>Alabama</td>\n      <td>Montgomery</td>\n      <td>Montgomery</td>\n      <td>101435.0</td>\n      <td>Huntingdon College</td>\n      <td>NaN</td>\n      <td>NaN</td>\n      <td>0.056</td>\n      <td>0.095</td>\n      <td>...</td>\n      <td>27400.0</td>\n      <td>1,000 - 4,999</td>\n      <td>Alabama</td>\n      <td>Private not-for-profit, 4-year or above</td>\n      <td>Four or more years</td>\n      <td>Private not-for-profit</td>\n      <td>City</td>\n      <td>990.0</td>\n      <td>Montgomery</td>\n      <td>NaN</td>\n    </tr>\n    <tr>\n      <th>...</th>\n      <td>...</td>\n      <td>...</td>\n      <td>...</td>\n      <td>...</td>\n      <td>...</td>\n      <td>...</td>\n      <td>...</td>\n      <td>...</td>\n      <td>...</td>\n      <td>...</td>\n      <td>...</td>\n      <td>...</td>\n      <td>...</td>\n      <td>...</td>\n      <td>...</td>\n      <td>...</td>\n      <td>...</td>\n      <td>...</td>\n      <td>...</td>\n      <td>...</td>\n      <td>...</td>\n    </tr>\n    <tr>\n      <th>1751</th>\n      <td>2020-12-11</td>\n      <td>Wisconsin</td>\n      <td>Walworth</td>\n      <td>Whitewater</td>\n      <td>240189.0</td>\n      <td>University of Wisconsin-Whitewater</td>\n      <td>739.0</td>\n      <td>NaN</td>\n      <td>0.116</td>\n      <td>0.146</td>\n      <td>...</td>\n      <td>7695.0</td>\n      <td>10,000 - 19,999</td>\n      <td>Wisconsin</td>\n      <td>Public, 4-year or above</td>\n      <td>Four or more years</td>\n      <td>Public</td>\n      <td>Town</td>\n      <td>11530.0</td>\n      <td>Whitewater</td>\n      <td>0.048216</td>\n    </tr>\n    <tr>\n      <th>1752</th>\n      <td>2020-12-11</td>\n      <td>Wyoming</td>\n      <td>Natrona</td>\n      <td>Casper</td>\n      <td>240505.0</td>\n      <td>Casper College</td>\n      <td>299.0</td>\n      <td>NaN</td>\n      <td>0.100</td>\n      <td>0.084</td>\n      <td>...</td>\n      <td>3834.0</td>\n      <td>1,000 - 4,999</td>\n      <td>Wyoming</td>\n      <td>Public, 2-year</td>\n      <td>At least 2 but less than 4 years</td>\n      <td>Public</td>\n      <td>City</td>\n      <td>2364.0</td>\n      <td>Casper</td>\n      <td>0.302326</td>\n    </tr>\n    <tr>\n      <th>1753</th>\n      <td>2020-12-11</td>\n      <td>Wyoming</td>\n      <td>Goshen</td>\n      <td>Torrington</td>\n      <td>240596.0</td>\n      <td>Eastern Wyoming College</td>\n      <td>12.0</td>\n      <td>NaN</td>\n      <td>0.201</td>\n      <td>0.169</td>\n      <td>...</td>\n      <td>4110.0</td>\n      <td>1,000 - 4,999</td>\n      <td>Wyoming</td>\n      <td>Public, 2-year</td>\n      <td>At least 2 but less than 4 years</td>\n      <td>Public</td>\n      <td>Town</td>\n      <td>886.0</td>\n      <td>Torrington</td>\n      <td>0.015605</td>\n    </tr>\n    <tr>\n      <th>1754</th>\n      <td>2020-12-11</td>\n      <td>Wyoming</td>\n      <td>Albany</td>\n      <td>Laramie</td>\n      <td>240727.0</td>\n      <td>University of Wyoming</td>\n      <td>1795.0</td>\n      <td>NaN</td>\n      <td>0.136</td>\n      <td>0.100</td>\n      <td>...</td>\n      <td>5581.0</td>\n      <td>10,000 - 19,999</td>\n      <td>Wyoming</td>\n      <td>Public, 4-year or above</td>\n      <td>Four or more years</td>\n      <td>Public</td>\n      <td>Town</td>\n      <td>10878.0</td>\n      <td>Laramie</td>\n      <td>1.338553</td>\n    </tr>\n    <tr>\n      <th>1755</th>\n      <td>2020-12-11</td>\n      <td>Wyoming</td>\n      <td>Sweetwater</td>\n      <td>Rock Springs</td>\n      <td>240693.0</td>\n      <td>Western Wyoming Community College</td>\n      <td>65.0</td>\n      <td>NaN</td>\n      <td>0.061</td>\n      <td>0.295</td>\n      <td>...</td>\n      <td>3930.0</td>\n      <td>1,000 - 4,999</td>\n      <td>Wyoming</td>\n      <td>Public, 2-year</td>\n      <td>At least 2 but less than 4 years</td>\n      <td>Public</td>\n      <td>Town</td>\n      <td>1769.0</td>\n      <td>Rock Springs</td>\n      <td>3.823529</td>\n    </tr>\n  </tbody>\n</table>\n<p>1756 rows × 27 columns</p>\n</div>"
     },
     "metadata": {},
     "execution_count": 24
    }
   ],
   "source": [
    "df_mask_usage"
   ]
  },
  {
   "cell_type": "code",
   "execution_count": 25,
   "id": "compound-forty",
   "metadata": {},
   "outputs": [
    {
     "output_type": "execute_result",
     "data": {
      "text/plain": "      NEVER  RARELY  SOMETIMES  FREQUENTLY  ALWAYS  cases per capita  \\\n0     0.062   0.050      0.123       0.177   0.589          0.006899   \n1     0.062   0.050      0.123       0.177   0.589          0.029732   \n2     0.056   0.095      0.123       0.212   0.513          0.000101   \n3     0.056   0.095      0.123       0.212   0.513          0.032996   \n5     0.102   0.034      0.133       0.336   0.395          0.069444   \n...     ...     ...        ...         ...     ...               ...   \n1751  0.116   0.146      0.137       0.191   0.410          0.048216   \n1752  0.100   0.084      0.094       0.325   0.398          0.302326   \n1753  0.201   0.169      0.111       0.223   0.296          0.015605   \n1754  0.136   0.100      0.151       0.181   0.432          1.338553   \n1755  0.061   0.295      0.230       0.146   0.268          3.823529   \n\n      per capita > 0.1  \n0                False  \n1                False  \n2                False  \n3                False  \n5                False  \n...                ...  \n1751             False  \n1752              True  \n1753             False  \n1754              True  \n1755              True  \n\n[1651 rows x 7 columns]",
      "text/html": "<div>\n<style scoped>\n    .dataframe tbody tr th:only-of-type {\n        vertical-align: middle;\n    }\n\n    .dataframe tbody tr th {\n        vertical-align: top;\n    }\n\n    .dataframe thead th {\n        text-align: right;\n    }\n</style>\n<table border=\"1\" class=\"dataframe\">\n  <thead>\n    <tr style=\"text-align: right;\">\n      <th></th>\n      <th>NEVER</th>\n      <th>RARELY</th>\n      <th>SOMETIMES</th>\n      <th>FREQUENTLY</th>\n      <th>ALWAYS</th>\n      <th>cases per capita</th>\n      <th>per capita &gt; 0.1</th>\n    </tr>\n  </thead>\n  <tbody>\n    <tr>\n      <th>0</th>\n      <td>0.062</td>\n      <td>0.050</td>\n      <td>0.123</td>\n      <td>0.177</td>\n      <td>0.589</td>\n      <td>0.006899</td>\n      <td>False</td>\n    </tr>\n    <tr>\n      <th>1</th>\n      <td>0.062</td>\n      <td>0.050</td>\n      <td>0.123</td>\n      <td>0.177</td>\n      <td>0.589</td>\n      <td>0.029732</td>\n      <td>False</td>\n    </tr>\n    <tr>\n      <th>2</th>\n      <td>0.056</td>\n      <td>0.095</td>\n      <td>0.123</td>\n      <td>0.212</td>\n      <td>0.513</td>\n      <td>0.000101</td>\n      <td>False</td>\n    </tr>\n    <tr>\n      <th>3</th>\n      <td>0.056</td>\n      <td>0.095</td>\n      <td>0.123</td>\n      <td>0.212</td>\n      <td>0.513</td>\n      <td>0.032996</td>\n      <td>False</td>\n    </tr>\n    <tr>\n      <th>5</th>\n      <td>0.102</td>\n      <td>0.034</td>\n      <td>0.133</td>\n      <td>0.336</td>\n      <td>0.395</td>\n      <td>0.069444</td>\n      <td>False</td>\n    </tr>\n    <tr>\n      <th>...</th>\n      <td>...</td>\n      <td>...</td>\n      <td>...</td>\n      <td>...</td>\n      <td>...</td>\n      <td>...</td>\n      <td>...</td>\n    </tr>\n    <tr>\n      <th>1751</th>\n      <td>0.116</td>\n      <td>0.146</td>\n      <td>0.137</td>\n      <td>0.191</td>\n      <td>0.410</td>\n      <td>0.048216</td>\n      <td>False</td>\n    </tr>\n    <tr>\n      <th>1752</th>\n      <td>0.100</td>\n      <td>0.084</td>\n      <td>0.094</td>\n      <td>0.325</td>\n      <td>0.398</td>\n      <td>0.302326</td>\n      <td>True</td>\n    </tr>\n    <tr>\n      <th>1753</th>\n      <td>0.201</td>\n      <td>0.169</td>\n      <td>0.111</td>\n      <td>0.223</td>\n      <td>0.296</td>\n      <td>0.015605</td>\n      <td>False</td>\n    </tr>\n    <tr>\n      <th>1754</th>\n      <td>0.136</td>\n      <td>0.100</td>\n      <td>0.151</td>\n      <td>0.181</td>\n      <td>0.432</td>\n      <td>1.338553</td>\n      <td>True</td>\n    </tr>\n    <tr>\n      <th>1755</th>\n      <td>0.061</td>\n      <td>0.295</td>\n      <td>0.230</td>\n      <td>0.146</td>\n      <td>0.268</td>\n      <td>3.823529</td>\n      <td>True</td>\n    </tr>\n  </tbody>\n</table>\n<p>1651 rows × 7 columns</p>\n</div>"
     },
     "metadata": {},
     "execution_count": 25
    }
   ],
   "source": [
    "df_mask_corr = pd.DataFrame()\n",
    "df_mask_corr[\"NEVER\"] = df_mask_usage[\"NEVER\"]\n",
    "df_mask_corr[\"RARELY\"] = df_mask_usage[\"RARELY\"]\n",
    "df_mask_corr[\"SOMETIMES\"] = df_mask_usage[\"SOMETIMES\"]\n",
    "df_mask_corr[\"FREQUENTLY\"] = df_mask_usage[\"FREQUENTLY\"]\n",
    "df_mask_corr[\"ALWAYS\"] = df_mask_usage[\"ALWAYS\"]\n",
    "df_mask_corr[\"cases per capita\"] = df_mask_usage[\"cases per capita\"]\n",
    "df_mask_corr[\"per capita > 0.1\"] = df_mask_usage[\"cases per capita\"] > 0.1\n",
    "df_mask_corr = df_mask_corr.dropna()\n",
    "\n",
    "df_mask_corr"
   ]
  },
  {
   "cell_type": "code",
   "execution_count": 26,
   "id": "innovative-messenger",
   "metadata": {
    "tags": []
   },
   "outputs": [
    {
     "output_type": "stream",
     "name": "stdout",
     "text": "SpearmanrResult(correlation=0.07210391701389125, pvalue=0.0033748207793625456)\nSpearmanrResult(correlation=0.12583387301718912, pvalue=2.905542057223833e-07)\nSpearmanrResult(correlation=0.1069901664703313, pvalue=1.3216175961964785e-05)\nSpearmanrResult(correlation=0.159273407650974, pvalue=7.597420631224243e-11)\nSpearmanrResult(correlation=-0.13846129319269632, pvalue=1.6138697596476346e-08)\n"
    }
   ],
   "source": [
    "never_percapita = st.spearmanr(df_mask_corr[\"NEVER\"], df_mask_corr[\"cases per capita\"])\n",
    "rarely_percapita = st.spearmanr(df_mask_corr[\"RARELY\"], df_mask_corr[\"cases per capita\"])\n",
    "sometimes_percapita = st.spearmanr(df_mask_corr[\"SOMETIMES\"], df_mask_corr[\"cases per capita\"])\n",
    "frequently_percapita = st.spearmanr(df_mask_corr[\"FREQUENTLY\"], df_mask_corr[\"cases per capita\"])\n",
    "always_percapita = st.spearmanr(df_mask_corr[\"ALWAYS\"], df_mask_corr[\"cases per capita\"])\n",
    "\n",
    "print(never_percapita)\n",
    "print(rarely_percapita)\n",
    "print(sometimes_percapita)\n",
    "print(frequently_percapita)\n",
    "print(always_percapita)"
   ]
  },
  {
   "cell_type": "code",
   "execution_count": 27,
   "id": "frequent-breakdown",
   "metadata": {
    "tags": []
   },
   "outputs": [
    {
     "output_type": "stream",
     "name": "stdout",
     "text": "(-0.012205860011397777, 0.6201784645323444)\n(0.005947027194235785, 0.8091972988833592)\n(0.006605469101134772, 0.7885481721872571)\n(0.06026269392906746, 0.014325534168661155)\n(-0.022987316651518236, 0.350588682449259)\n"
    }
   ],
   "source": [
    "never_percapita_p = st.pearsonr(df_mask_corr[\"NEVER\"], df_mask_corr[\"cases per capita\"])\n",
    "rarely_percapita_p = st.pearsonr(df_mask_corr[\"RARELY\"], df_mask_corr[\"cases per capita\"])\n",
    "sometimes_percapita_p = st.pearsonr(df_mask_corr[\"SOMETIMES\"], df_mask_corr[\"cases per capita\"])\n",
    "frequently_percapita_p = st.pearsonr(df_mask_corr[\"FREQUENTLY\"], df_mask_corr[\"cases per capita\"])\n",
    "always_percapita_p = st.pearsonr(df_mask_corr[\"ALWAYS\"], df_mask_corr[\"cases per capita\"])\n",
    "\n",
    "print(never_percapita_p)\n",
    "print(rarely_percapita_p)\n",
    "print(sometimes_percapita_p)\n",
    "print(frequently_percapita_p)\n",
    "print(always_percapita_p)"
   ]
  },
  {
   "cell_type": "code",
   "execution_count": 28,
   "id": "becoming-dividend",
   "metadata": {},
   "outputs": [],
   "source": [
    "df_knn = df_mask_usage[[\"NEVER\", \"RARELY\", \"SOMETIMES\", \"FREQUENTLY\", \"ALWAYS\", \"Enrollment\", \"Urbanization\"]].copy()\n",
    "df_knn[\"Urbanization\"] = df_knn[\"Urbanization\"].map({\"City\": 3, \"Suburb\": 2, \"Town\": 1})\n",
    "df_knn[\"cases per capita\"] = df_mask_usage[\"cases per capita\"] > 0.1\n",
    "\n",
    "df_knn = df_knn.dropna()"
   ]
  },
  {
   "cell_type": "code",
   "execution_count": 29,
   "id": "charming-spell",
   "metadata": {},
   "outputs": [
    {
     "output_type": "execute_result",
     "data": {
      "text/plain": "0.6224299065420561"
     },
     "metadata": {},
     "execution_count": 29
    }
   ],
   "source": [
    "df_knn = df_knn.sample(frac=1)\n",
    "\n",
    "x = df_knn[[\"NEVER\", \"RARELY\", \"SOMETIMES\", \"FREQUENTLY\", \"ALWAYS\", \"Urbanization\", \"Enrollment\"]]\n",
    "y = df_knn[\"cases per capita\"]\n",
    "knn_size = len(df_knn)\n",
    "split = int(knn_size * 2/3)\n",
    "\n",
    "knn = KNeighborsClassifier(n_neighbors=5, weights=\"distance\")\n",
    "knn.fit(x[:split], y[:split])\n",
    "knn.score(x[split:], y[split:])"
   ]
  },
  {
   "cell_type": "code",
   "execution_count": 30,
   "id": "operational-melissa",
   "metadata": {},
   "outputs": [
    {
     "output_type": "execute_result",
     "data": {
      "text/plain": "0.5925233644859813"
     },
     "metadata": {},
     "execution_count": 30
    }
   ],
   "source": [
    "df_knn_simple = df_knn.sample(frac=1)\n",
    "\n",
    "x = df_knn_simple[[\"Enrollment\"]]\n",
    "y = df_knn_simple[\"cases per capita\"]\n",
    "knn_size_simple = len(df_knn_simple)\n",
    "split = int(knn_size_simple * 2/3)\n",
    "\n",
    "knn_simple = KNeighborsClassifier(n_neighbors=5, weights=\"distance\")\n",
    "knn_simple.fit(x[:split], y[:split])\n",
    "knn_simple.score(x[split:], y[split:])"
   ]
  },
  {
   "cell_type": "markdown",
   "source": [
    "### Linear SVM"
   ],
   "metadata": {
    "collapsed": false
   }
  },
  {
   "cell_type": "markdown",
   "source": [
    "Prepare target where cases per capita > 0.1"
   ],
   "metadata": {
    "collapsed": false
   }
  },
  {
   "cell_type": "code",
   "execution_count": 31,
   "outputs": [],
   "source": [
    "case_percapita = df_case_percapita[\"cases per capita\"]\n",
    "case_percapita = case_percapita.dropna()\n",
    "train_percapita =[i > .1 for i in case_percapita]"
   ],
   "metadata": {
    "collapsed": false,
    "pycharm": {
     "name": "#%%\n"
    }
   }
  },
  {
   "cell_type": "markdown",
   "source": [
    "### Prepare features\n",
    "'mask used always' 'urbanization' 'enrollment'"
   ],
   "metadata": {
    "collapsed": false
   }
  },
  {
   "cell_type": "code",
   "execution_count": 32,
   "outputs": [],
   "source": [
    "#df_mask_urban_enroll = df_mask_usage[[\"ALWAYS\"]]\n",
    "#df_mask_urban_enroll = y\n",
    "\n",
    "df_mask_urban_enroll= x[[\"Enrollment\"]]\n",
    "\n",
    "df_mask_urban_enroll=df_mask_urban_enroll.join(df_mask_corr[\"ALWAYS\"])\n",
    "df_mask_urban_enroll=df_mask_urban_enroll.join(df_knn[\"Urbanization\"])\n",
    "df_mask_urban_enroll=df_mask_urban_enroll.join(y)\n",
    "\n",
    "\n",
    "df_mask_urban_enroll=df_mask_urban_enroll.dropna()\n",
    "df_mask_class_target = df_mask_urban_enroll[[\"cases per capita\"]]\n",
    "del df_mask_urban_enroll['cases per capita']\n",
    "\n",
    "\n"
   ],
   "metadata": {
    "collapsed": false,
    "pycharm": {
     "name": "#%%\n"
    }
   }
  },
  {
   "cell_type": "markdown",
   "source": [
    "Search for best parameters"
   ],
   "metadata": {
    "collapsed": false
   }
  },
  {
   "cell_type": "code",
   "execution_count": 33,
   "outputs": [
    {
     "output_type": "execute_result",
     "data": {
      "text/plain": "GridSearchCV(cv=5, estimator=LinearSVC(),\n             param_grid={'C': [50, 100, 200, 300, 400],\n                         'loss': ['hinge', 'squared_hinge'],\n                         'max_iter': [1200, 1100, 1000, 900, 800],\n                         'penalty': ['l1', 'l2'],\n                         'tol': [0.01, 0.001, 0.0001, 1e-05]},\n             scoring='roc_auc')"
     },
     "metadata": {},
     "execution_count": 33
    }
   ],
   "source": [
    "from sklearn.model_selection import GridSearchCV\n",
    "from sklearn.svm import LinearSVC\n",
    "\n",
    "parameters={'C':[50,100,200,300,400],'penalty':['l1','l2'],'tol':[1e-2,1e-3,1e-4,1e-5],'loss':['hinge','squared_hinge'],'max_iter':[1200,1100,1000,900,800]}\n",
    "gs_model = GridSearchCV(LinearSVC(),parameters,scoring='roc_auc',cv=5)\n",
    "gs_model.fit(df_mask_urban_enroll,df_mask_class_target)"
   ],
   "metadata": {
    "collapsed": false,
    "pycharm": {
     "name": "#%%\n"
    }
   }
  },
  {
   "cell_type": "code",
   "execution_count": 34,
   "outputs": [
    {
     "output_type": "stream",
     "name": "stdout",
     "text": "Best parameters for SVM classifier\n{'C': 50, 'loss': 'hinge', 'max_iter': 900, 'penalty': 'l2', 'tol': 0.0001}\n\n\n\nThe classifier is 71.967930% accurate\n\n\n\n"
    }
   ],
   "source": [
    "print(\"Best parameters for SVM classifier\")\n",
    "print(gs_model.best_params_)\n",
    "print(\"\")\n",
    "print(\"\")\n",
    "print(\"\")\n",
    "print(\"The classifier is %f%% accurate\"%(gs_model.best_score_*100))\n",
    "print(\"\")\n",
    "print(\"\")\n",
    "print(\"\")\n",
    "#print(gs_model.cv_results_)\n",
    "\n"
   ],
   "metadata": {
    "collapsed": false,
    "pycharm": {
     "name": "#%%\n"
    },
    "tags": []
   }
  },
  {
   "cell_type": "code",
   "execution_count": null,
   "metadata": {},
   "outputs": [],
   "source": []
  }
 ],
 "metadata": {
  "kernelspec": {
   "display_name": "Python 3",
   "language": "python",
   "name": "python3"
  },
  "language_info": {
   "codemirror_mode": {
    "name": "ipython",
    "version": 3
   },
   "file_extension": ".py",
   "mimetype": "text/x-python",
   "name": "python",
   "nbconvert_exporter": "python",
   "pygments_lexer": "ipython3",
   "version": "3.7.3-final"
  }
 },
 "nbformat": 4,
 "nbformat_minor": 5
}