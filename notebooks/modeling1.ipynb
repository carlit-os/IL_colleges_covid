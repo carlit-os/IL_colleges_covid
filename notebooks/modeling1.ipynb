{
 "cells": [
  {
   "cell_type": "code",
   "execution_count": 20,
   "id": "amino-clarity",
   "metadata": {},
   "outputs": [],
   "source": [
    "import pandas as pd\n",
    "import numpy as np\n",
    "import scipy.stats as st\n",
    "import math\n",
    "from sklearn.neighbors import KNeighborsClassifier"
   ]
  },
  {
   "cell_type": "code",
   "execution_count": 24,
   "id": "earned-harbor",
   "metadata": {},
   "outputs": [],
   "source": [
    "# File Paths\n",
    "nyt_colleges_path = \"../datasets/nyt/covid-19-data-master/colleges/colleges.csv\"\n",
    "mask_path = \"../datasets/nyt/covid-19-data-master/mask-use/mask-use-by-county.csv\"\n",
    "ipeds_path = \"../datasets/illinois/ipeds/ipeds.csv\"\n",
    "fips_path = \"../datasets/misc/FIPS_county_codes.csv\"\n",
    "\n",
    "# Read CSVs\n",
    "df_nyt_colleges = pd.read_csv(nyt_colleges_path)\n",
    "df_mask = pd.read_csv(mask_path)\n",
    "df_ipeds = pd.read_csv(ipeds_path)\n",
    "df_fips = pd.read_csv(fips_path)\n",
    "\n",
    "# Add county names to mask usage via merge\n",
    "df_mask_counties = pd.merge(df_mask, df_fips, left_on=\"COUNTYFP\", right_on=\"FIPS\")\n",
    "\n",
    "# Remove redundant columns, rename county name column for easier use\n",
    "df_mask_counties = df_mask_counties.drop(columns=[\"COUNTYFP\"]).rename(columns={\"Name\": \"county\"})\n",
    "\n",
    "# Preparing EDA DataFrame\n",
    "df_case_percapita = pd.DataFrame()\n",
    "\n",
    "#categories I think will be useful for EDA here\n",
    "df_case_percapita[\"cases\"] = df_nyt_colleges[\"cases\"]\n",
    "df_case_percapita[\"Enrollment\"] = df_ipeds[\"Enrollment\"]\n",
    "df_case_percapita[\"Urbanization\"] = df_ipeds[\"Urbanization\"]\n",
    "df_case_percapita[\"college\"]= df_nyt_IL_colleges[\"college\"]\n",
    "df_case_percapita[\"cases per capita\"] = df_case_percapita[\"cases\"] / df_case_percapita[\"Enrollment\"]\n",
    "\n",
    "# Merging mask data with college data\n",
    "df_mask_usage = pd.merge(df_nyt_colleges, df_mask_counties, on=\"county\").drop(columns=[\"State\", \"FIPS\"])\n",
    "\n",
    "# Also bringing in additional IPEDS data\n",
    "df_mask_usage = pd.merge(df_mask_usage, df_ipeds, on=\"ipeds_id\")\n",
    "\n",
    "# Also adding the per capita data calculated earlier\n",
    "df_mask_usage = pd.merge(df_mask_usage, df_case_percapita[[\"cases per capita\", \"college\"]], on=\"college\")"
   ]
  },
  {
   "cell_type": "code",
   "execution_count": 29,
   "id": "knowing-marble",
   "metadata": {},
   "outputs": [
    {
     "data": {
      "text/html": [
       "<div>\n",
       "<style scoped>\n",
       "    .dataframe tbody tr th:only-of-type {\n",
       "        vertical-align: middle;\n",
       "    }\n",
       "\n",
       "    .dataframe tbody tr th {\n",
       "        vertical-align: top;\n",
       "    }\n",
       "\n",
       "    .dataframe thead th {\n",
       "        text-align: right;\n",
       "    }\n",
       "</style>\n",
       "<table border=\"1\" class=\"dataframe\">\n",
       "  <thead>\n",
       "    <tr style=\"text-align: right;\">\n",
       "      <th></th>\n",
       "      <th>date</th>\n",
       "      <th>state</th>\n",
       "      <th>county</th>\n",
       "      <th>city</th>\n",
       "      <th>ipeds_id</th>\n",
       "      <th>college</th>\n",
       "      <th>cases</th>\n",
       "      <th>notes</th>\n",
       "      <th>NEVER</th>\n",
       "      <th>RARELY</th>\n",
       "      <th>...</th>\n",
       "      <th>Tuition and fees, 2019-20</th>\n",
       "      <th>Institution size category</th>\n",
       "      <th>Sector of institution</th>\n",
       "      <th>Level of institution</th>\n",
       "      <th>Control of institution</th>\n",
       "      <th>Degree-granting status</th>\n",
       "      <th>Degree of urbanization</th>\n",
       "      <th>Urbanization</th>\n",
       "      <th>Enrollment</th>\n",
       "      <th>cases per capita</th>\n",
       "    </tr>\n",
       "  </thead>\n",
       "  <tbody>\n",
       "    <tr>\n",
       "      <th>0</th>\n",
       "      <td>2020-12-11</td>\n",
       "      <td>Illinois</td>\n",
       "      <td>Madison</td>\n",
       "      <td>Edwardsville</td>\n",
       "      <td>149231.0</td>\n",
       "      <td>Southern Illinois University Edwardsville</td>\n",
       "      <td>238.0</td>\n",
       "      <td>NaN</td>\n",
       "      <td>0.062</td>\n",
       "      <td>0.05</td>\n",
       "      <td>...</td>\n",
       "      <td>12219.0</td>\n",
       "      <td>10,000 - 19,999</td>\n",
       "      <td>Public, 4-year or above</td>\n",
       "      <td>Four or more years</td>\n",
       "      <td>Public</td>\n",
       "      <td>Degree-granting</td>\n",
       "      <td>Suburb: Large</td>\n",
       "      <td>Suburb</td>\n",
       "      <td>11754</td>\n",
       "      <td>0.030117</td>\n",
       "    </tr>\n",
       "  </tbody>\n",
       "</table>\n",
       "<p>1 rows × 30 columns</p>\n",
       "</div>"
      ],
      "text/plain": [
       "         date     state   county          city  ipeds_id  \\\n",
       "0  2020-12-11  Illinois  Madison  Edwardsville  149231.0   \n",
       "\n",
       "                                     college  cases notes  NEVER  RARELY  ...  \\\n",
       "0  Southern Illinois University Edwardsville  238.0   NaN  0.062    0.05  ...   \n",
       "\n",
       "   Tuition and fees, 2019-20  Institution size category  \\\n",
       "0                    12219.0            10,000 - 19,999   \n",
       "\n",
       "     Sector of institution Level of institution  Control of institution  \\\n",
       "0  Public, 4-year or above   Four or more years                  Public   \n",
       "\n",
       "  Degree-granting status Degree of urbanization Urbanization Enrollment  \\\n",
       "0        Degree-granting          Suburb: Large       Suburb      11754   \n",
       "\n",
       "   cases per capita  \n",
       "0          0.030117  \n",
       "\n",
       "[1 rows x 30 columns]"
      ]
     },
     "execution_count": 29,
     "metadata": {},
     "output_type": "execute_result"
    }
   ],
   "source": [
    "df_mask_usage.head(1)"
   ]
  },
  {
   "cell_type": "code",
   "execution_count": 16,
   "id": "compound-forty",
   "metadata": {},
   "outputs": [
    {
     "data": {
      "text/html": [
       "<div>\n",
       "<style scoped>\n",
       "    .dataframe tbody tr th:only-of-type {\n",
       "        vertical-align: middle;\n",
       "    }\n",
       "\n",
       "    .dataframe tbody tr th {\n",
       "        vertical-align: top;\n",
       "    }\n",
       "\n",
       "    .dataframe thead th {\n",
       "        text-align: right;\n",
       "    }\n",
       "</style>\n",
       "<table border=\"1\" class=\"dataframe\">\n",
       "  <thead>\n",
       "    <tr style=\"text-align: right;\">\n",
       "      <th></th>\n",
       "      <th>NEVER</th>\n",
       "      <th>RARELY</th>\n",
       "      <th>SOMETIMES</th>\n",
       "      <th>FREQUENTLY</th>\n",
       "      <th>ALWAYS</th>\n",
       "      <th>cases per capita</th>\n",
       "      <th>per capita &gt; 0.1</th>\n",
       "    </tr>\n",
       "  </thead>\n",
       "  <tbody>\n",
       "    <tr>\n",
       "      <th>0</th>\n",
       "      <td>0.078</td>\n",
       "      <td>0.025</td>\n",
       "      <td>0.066</td>\n",
       "      <td>0.235</td>\n",
       "      <td>0.596</td>\n",
       "      <td>0.0514</td>\n",
       "      <td>False</td>\n",
       "    </tr>\n",
       "  </tbody>\n",
       "</table>\n",
       "</div>"
      ],
      "text/plain": [
       "   NEVER  RARELY  SOMETIMES  FREQUENTLY  ALWAYS  cases per capita  \\\n",
       "0  0.078   0.025      0.066       0.235   0.596            0.0514   \n",
       "\n",
       "   per capita > 0.1  \n",
       "0             False  "
      ]
     },
     "execution_count": 16,
     "metadata": {},
     "output_type": "execute_result"
    }
   ],
   "source": [
    "df_mask_corr = pd.DataFrame()\n",
    "df_mask_corr[\"NEVER\"] = df_mask_usage[\"NEVER\"]\n",
    "df_mask_corr[\"RARELY\"] = df_mask_usage[\"RARELY\"]\n",
    "df_mask_corr[\"SOMETIMES\"] = df_mask_usage[\"SOMETIMES\"]\n",
    "df_mask_corr[\"FREQUENTLY\"] = df_mask_usage[\"FREQUENTLY\"]\n",
    "df_mask_corr[\"ALWAYS\"] = df_mask_usage[\"ALWAYS\"]\n",
    "df_mask_corr[\"cases per capita\"] = df_mask_usage[\"cases per capita\"]\n",
    "df_mask_corr[\"per capita > 0.1\"] = df_mask_usage[\"cases per capita\"] > 0.1\n",
    "df_mask_corr = df_mask_corr.dropna()\n",
    "\n",
    "df_mask_corr.head(1)"
   ]
  },
  {
   "cell_type": "code",
   "execution_count": 15,
   "id": "innovative-messenger",
   "metadata": {},
   "outputs": [
    {
     "name": "stdout",
     "output_type": "stream",
     "text": [
      "SpearmanrResult(correlation=0.05643936682889105, pvalue=0.4308422095197091)\n",
      "SpearmanrResult(correlation=0.14039483745259557, pvalue=0.049096541894164174)\n",
      "SpearmanrResult(correlation=0.14122734181546376, pvalue=0.047755397631542094)\n",
      "SpearmanrResult(correlation=0.07485421604366518, pvalue=0.29583331927689577)\n",
      "SpearmanrResult(correlation=-0.1218315936838477, pvalue=0.08810777995531095)\n"
     ]
    }
   ],
   "source": [
    "never_percapita = st.spearmanr(df_mask_corr[\"NEVER\"], df_mask_corr[\"cases per capita\"])\n",
    "rarely_percapita = st.spearmanr(df_mask_corr[\"RARELY\"], df_mask_corr[\"cases per capita\"])\n",
    "sometimes_percapita = st.spearmanr(df_mask_corr[\"SOMETIMES\"], df_mask_corr[\"cases per capita\"])\n",
    "frequently_percapita = st.spearmanr(df_mask_corr[\"FREQUENTLY\"], df_mask_corr[\"cases per capita\"])\n",
    "always_percapita = st.spearmanr(df_mask_corr[\"ALWAYS\"], df_mask_corr[\"cases per capita\"])\n",
    "\n",
    "print(never_percapita)\n",
    "print(rarely_percapita)\n",
    "print(sometimes_percapita)\n",
    "print(frequently_percapita)\n",
    "print(always_percapita)"
   ]
  },
  {
   "cell_type": "code",
   "execution_count": 17,
   "id": "frequent-breakdown",
   "metadata": {},
   "outputs": [
    {
     "name": "stdout",
     "output_type": "stream",
     "text": [
      "(0.10698275016233674, 0.13457122021883167)\n",
      "(0.17937199173712073, 0.011666538589512747)\n",
      "(0.17067258687282805, 0.016490279759656005)\n",
      "(0.05464695564779808, 0.4456449263447581)\n",
      "(-0.20735041350123992, 0.0034598362056174983)\n"
     ]
    }
   ],
   "source": [
    "never_percapita_p = st.pearsonr(df_mask_corr[\"NEVER\"], df_mask_corr[\"cases per capita\"])\n",
    "rarely_percapita_p = st.pearsonr(df_mask_corr[\"RARELY\"], df_mask_corr[\"cases per capita\"])\n",
    "sometimes_percapita_p = st.pearsonr(df_mask_corr[\"SOMETIMES\"], df_mask_corr[\"cases per capita\"])\n",
    "frequently_percapita_p = st.pearsonr(df_mask_corr[\"FREQUENTLY\"], df_mask_corr[\"cases per capita\"])\n",
    "always_percapita_p = st.pearsonr(df_mask_corr[\"ALWAYS\"], df_mask_corr[\"cases per capita\"])\n",
    "\n",
    "print(never_percapita_p)\n",
    "print(rarely_percapita_p)\n",
    "print(sometimes_percapita_p)\n",
    "print(frequently_percapita_p)\n",
    "print(always_percapita_p)"
   ]
  },
  {
   "cell_type": "code",
   "execution_count": 58,
   "id": "becoming-dividend",
   "metadata": {},
   "outputs": [
    {
     "data": {
      "text/html": [
       "<div>\n",
       "<style scoped>\n",
       "    .dataframe tbody tr th:only-of-type {\n",
       "        vertical-align: middle;\n",
       "    }\n",
       "\n",
       "    .dataframe tbody tr th {\n",
       "        vertical-align: top;\n",
       "    }\n",
       "\n",
       "    .dataframe thead th {\n",
       "        text-align: right;\n",
       "    }\n",
       "</style>\n",
       "<table border=\"1\" class=\"dataframe\">\n",
       "  <thead>\n",
       "    <tr style=\"text-align: right;\">\n",
       "      <th></th>\n",
       "      <th>ALWAYS</th>\n",
       "      <th>Enrollment</th>\n",
       "      <th>Urbanization</th>\n",
       "      <th>cases per capita</th>\n",
       "    </tr>\n",
       "  </thead>\n",
       "  <tbody>\n",
       "    <tr>\n",
       "      <th>0</th>\n",
       "      <td>0.589</td>\n",
       "      <td>11754</td>\n",
       "      <td>2.0</td>\n",
       "      <td>False</td>\n",
       "    </tr>\n",
       "  </tbody>\n",
       "</table>\n",
       "</div>"
      ],
      "text/plain": [
       "   ALWAYS  Enrollment  Urbanization  cases per capita\n",
       "0   0.589       11754           2.0             False"
      ]
     },
     "execution_count": 58,
     "metadata": {},
     "output_type": "execute_result"
    }
   ],
   "source": [
    "df_knn = df_mask_usage[[\"ALWAYS\", \"Enrollment\", \"Urbanization\"]].copy()\n",
    "df_knn[\"Urbanization\"] = df_knn[\"Urbanization\"].map({\"City\": 3, \"Suburb\": 2, \"Town\": 1})\n",
    "df_knn[\"cases per capita\"] = df_mask_usage[\"cases per capita\"] > 0.1\n",
    "\n",
    "df_knn = df_knn.dropna()\n",
    "\n",
    "df_knn.head(1)"
   ]
  },
  {
   "cell_type": "code",
   "execution_count": 95,
   "id": "charming-spell",
   "metadata": {},
   "outputs": [
    {
     "data": {
      "text/plain": [
       "0.9666666666666667"
      ]
     },
     "execution_count": 95,
     "metadata": {},
     "output_type": "execute_result"
    }
   ],
   "source": [
    "df_knn = df_knn.sample(frac=1)\n",
    "\n",
    "x = df_knn[[\"ALWAYS\", \"Urbanization\", \"Enrollment\"]]\n",
    "y = df_knn[\"cases per capita\"]\n",
    "knn_size = len(df_knn)\n",
    "split = int(knn_size * 2/3)\n",
    "\n",
    "knn = KNeighborsClassifier(n_neighbors=3, weights=\"uniform\")\n",
    "knn.fit(x[:split], y[:split])\n",
    "knn.score(x[split:], y[split:])"
   ]
  }
 ],
 "metadata": {
  "kernelspec": {
   "display_name": "Python 3",
   "language": "python",
   "name": "python3"
  },
  "language_info": {
   "codemirror_mode": {
    "name": "ipython",
    "version": 3
   },
   "file_extension": ".py",
   "mimetype": "text/x-python",
   "name": "python",
   "nbconvert_exporter": "python",
   "pygments_lexer": "ipython3",
   "version": "3.9.1"
  }
 },
 "nbformat": 4,
 "nbformat_minor": 5
}
