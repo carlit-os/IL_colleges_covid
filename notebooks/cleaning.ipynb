{
 "cells": [
  {
   "cell_type": "markdown",
   "metadata": {},
   "source": [
    "## Imports"
   ]
  },
  {
   "cell_type": "code",
   "execution_count": 61,
   "metadata": {},
   "outputs": [],
   "source": [
    "import pandas as pd\n",
    "import matplotlib.pyplot as plt\n",
    "import scipy.stats as st\n",
    "import math"
   ]
  },
  {
   "cell_type": "markdown",
   "metadata": {},
   "source": [
    "## Dataset -> Dataframes"
   ]
  },
  {
   "cell_type": "code",
   "execution_count": 26,
   "metadata": {},
   "outputs": [],
   "source": [
    "\n",
    "#ipeds_allIL_path = \"../datasets/illinois/ipeds/ipedsallIL.csv\"\n",
    "\n",
    "#df_ipeds_allIL_colleges = pd.read_csv(IPEDS_allIL_path)\n",
    "\n",
    "\n",
    "IL_nyt_colleges_path = \"../datasets/illinois/IL_nyt_colleges.csv\"\n",
    "ipeds_path = \"../datasets/illinois/ipeds/ipeds.csv\"\n",
    "\n",
    "df_nyt_IL_colleges = pd.read_csv(IL_nyt_colleges_path)\n",
    "df_ipeds = pd.read_csv(ipeds_path)"
   ]
  },
  {
   "cell_type": "markdown",
   "metadata": {
    "pycharm": {
     "name": "#%% md\n"
    }
   },
   "source": [
    "## EDA\n"
   ]
  },
  {
   "cell_type": "markdown",
   "source": [
    "Cases per Capita"
   ],
   "metadata": {
    "collapsed": false,
    "pycharm": {
     "name": "#%% md\n"
    }
   }
  },
  {
   "cell_type": "code",
   "execution_count": 69,
   "metadata": {},
   "outputs": [
    {
     "data": {
      "text/plain": "<Figure size 432x288 with 1 Axes>",
      "image/png": "[encoded data removed]"
     },
     "metadata": {},
     "output_type": "display_data"
    }
   ],
   "source": [
    "df_case_percapita = pd.DataFrame()\n",
    "\n",
    "#categories I think will be useful for EDA here\n",
    "df_case_percapita['cases'] = df_nyt_IL_colleges[\"cases\"]\n",
    "df_case_percapita['Enrollment'] = df_ipeds[\"Enrollment\"]\n",
    "df_case_percapita['Degree of urbanization'] = df_ipeds[\"Degree of urbanization\"]\n",
    "df_case_percapita['college']= df_nyt_IL_colleges[\"college\"]\n",
    "df_case_percapita['cases per capita']=df_case_percapita[\"cases\"]/df_case_percapita[\"Enrollment\"]\n",
    "\n",
    "case_percapita = df_case_percapita['cases per capita']\n",
    "case_percapita = case_percapita.dropna()\n",
    "\n",
    "\n",
    "#chose bin size with Freedman-Diaconis rule: (max-min) / 2*IQR*n^(-1/3)\n",
    "bin_size = (case_percapita.max()-case_percapita.min())/(2*st.iqr(case_percapita)*len(case_percapita)**(-1/3))\n",
    "bin_size = math.ceil(bin_size)\n",
    "\n",
    "plt.style.use('seaborn-whitegrid')\n",
    "plt.hist(df_case_percapita['cases per capita'],bins=bin_size,facecolor='#2ab0ff',edgecolor=\"#196acf\")\n",
    "plt.title(\"Covid Cases Per Capita in IL colleges\")\n",
    "plt.ylabel(\"Frequency\")\n",
    "plt.xlabel(\"Cases/Enrollment\")\n",
    "\n",
    "plt.show()\n",
    "\n",
    "\n"
   ]
  }
 ],
 "metadata": {
  "kernelspec": {
   "display_name": "Python 3",
   "language": "python",
   "name": "python3"
  },
  "language_info": {
   "codemirror_mode": {
    "name": "ipython",
    "version": 3
   },
   "file_extension": ".py",
   "mimetype": "text/x-python",
   "name": "python",
   "nbconvert_exporter": "python",
   "pygments_lexer": "ipython3",
   "version": "3.8.3"
  }
 },
 "nbformat": 4,
 "nbformat_minor": 4
}